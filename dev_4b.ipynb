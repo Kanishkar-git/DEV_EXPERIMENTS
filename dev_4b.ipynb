{
  "nbformat": 4,
  "nbformat_minor": 0,
  "metadata": {
    "colab": {
      "provenance": [],
      "authorship_tag": "ABX9TyOS0/YczBAlvswEhrtuV5fF",
      "include_colab_link": true
    },
    "kernelspec": {
      "name": "python3",
      "display_name": "Python 3"
    },
    "language_info": {
      "name": "python"
    }
  },
  "cells": [
    {
      "cell_type": "markdown",
      "metadata": {
        "id": "view-in-github",
        "colab_type": "text"
      },
      "source": [
        "<a href=\"https://colab.research.google.com/github/Kanishkar-git/DEV_EXPERIMENTS/blob/main/dev_4b.ipynb\" target=\"_parent\"><img src=\"https://colab.research.google.com/assets/colab-badge.svg\" alt=\"Open In Colab\"/></a>"
      ]
    },
    {
      "cell_type": "code",
      "execution_count": null,
      "metadata": {
        "colab": {
          "base_uri": "https://localhost:8080/"
        },
        "id": "luFCmPkXUkhc",
        "outputId": "0f5b21a9-7f00-46b0-87d5-3869225cd355"
      },
      "outputs": [
        {
          "output_type": "stream",
          "name": "stdout",
          "text": [
            "Total Hours worked per department:\n",
            "   Department  Hours worked\n",
            "0    Finance            80\n",
            "1         HR           115\n",
            "2         IT           142\n",
            "\n",
            "Pivot Table for summary:\n",
            "   Department  Total_Hours  Average_Hours\n",
            "0    Finance           80      80.000000\n",
            "1         HR          115      57.500000\n",
            "2         IT          142      47.333333\n",
            "\n",
            "Department with highest average hours:\n",
            "Finance (80.0)\n"
          ]
        }
      ],
      "source": [
        "import pandas as pd\n",
        "\n",
        "data = {\n",
        "    'Employee': ['A', 'B', 'C', 'D', 'E', 'F'],\n",
        "    'Department': ['Finance', 'HR', 'HR', 'IT', 'IT', 'IT'],\n",
        "    'HoursWorked': [80, 60, 55, 45, 50, 47]\n",
        "}\n",
        "\n",
        "df = pd.DataFrame(data)\n",
        "\n",
        "# Total hours worked per department\n",
        "total_hours = df.groupby('Department')['HoursWorked'].sum().reset_index(name='Hours worked')\n",
        "print(\"Total Hours worked per department:\\n\", total_hours)\n",
        "\n",
        "# Pivot Table for summary\n",
        "pivot = df.groupby('Department').agg(\n",
        "    Total_Hours=('HoursWorked', 'sum'),\n",
        "    Average_Hours=('HoursWorked', 'mean')\n",
        ").reset_index()\n",
        "\n",
        "print(\"\\nPivot Table for summary:\\n\", pivot)\n",
        "\n",
        "# Find department with highest average hours\n",
        "max_avg = pivot.loc[pivot['Average_Hours'].idxmax()]\n",
        "print(f\"\\nDepartment with highest average hours:\\n{max_avg['Department']} ({round(max_avg['Average_Hours'], 2)})\")\n"
      ]
    }
  ]
}