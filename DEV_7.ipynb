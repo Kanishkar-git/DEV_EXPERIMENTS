{
  "nbformat": 4,
  "nbformat_minor": 0,
  "metadata": {
    "colab": {
      "provenance": [],
      "authorship_tag": "ABX9TyNWbu3pBP0xqaXImgxRyrDI",
      "include_colab_link": true
    },
    "kernelspec": {
      "name": "python3",
      "display_name": "Python 3"
    },
    "language_info": {
      "name": "python"
    }
  },
  "cells": [
    {
      "cell_type": "markdown",
      "metadata": {
        "id": "view-in-github",
        "colab_type": "text"
      },
      "source": [
        "<a href=\"https://colab.research.google.com/github/Kanishkar-git/DEV_EXPERIMENTS/blob/main/DEV_7.ipynb\" target=\"_parent\"><img src=\"https://colab.research.google.com/assets/colab-badge.svg\" alt=\"Open In Colab\"/></a>"
      ]
    },
    {
      "cell_type": "code",
      "execution_count": 1,
      "metadata": {
        "colab": {
          "base_uri": "https://localhost:8080/"
        },
        "id": "VfDgDDVLCPVw",
        "outputId": "4d246676-4a82-42df-f0d7-71c23a420c28"
      },
      "outputs": [
        {
          "output_type": "stream",
          "name": "stdout",
          "text": [
            "Basic Statistics:\n",
            "         Latitude   Longitude       Value\n",
            "count  100.000000  100.000000  100.000000\n",
            "mean    37.970181 -122.004337   50.670000\n",
            "std      0.297489    0.586223   28.640247\n",
            "min     37.505522 -122.986096    2.000000\n",
            "25%     37.693201 -122.515991   27.000000\n",
            "50%     37.964142 -121.988750   47.500000\n",
            "75%     38.230203 -121.467633   72.750000\n",
            "max     38.486887 -121.028699   99.000000\n"
          ]
        }
      ],
      "source": [
        "# Import necessary libraries\n",
        "import pandas as pd\n",
        "import numpy as np\n",
        "import folium\n",
        "\n",
        "# Generate random data\n",
        "np.random.seed(42)\n",
        "num_points = 100\n",
        "latitude = np.random.uniform(37.5, 38.5, num_points)\n",
        "longitude = np.random.uniform(-123, -121, num_points)\n",
        "value = np.random.randint(1, 100, num_points)\n",
        "\n",
        "# Create a DataFrame\n",
        "df = pd.DataFrame({\n",
        "    'Latitude': latitude,\n",
        "    'Longitude': longitude,\n",
        "    'Value': value\n",
        "})\n",
        "\n",
        "# Save the DataFrame to a CSV file\n",
        "df.to_csv('map_data.csv', index=False)\n",
        "\n",
        "# Load the generated CSV file\n",
        "df = pd.read_csv('map_data.csv')\n",
        "\n",
        "# Display basic statistics\n",
        "print(\"Basic Statistics:\")\n",
        "print(df.describe())\n",
        "\n",
        "# Create a base map centered around the mean location\n",
        "base_map = folium.Map(location=[df['Latitude'].mean(), df['Longitude'].mean()], zoom_start=10)\n",
        "\n",
        "# Add data points to the map\n",
        "for index, row in df.iterrows():\n",
        "    popup_text = f\"Value: {row['Value']}\"\n",
        "    folium.Marker([row['Latitude'], row['Longitude']], popup=popup_text).add_to(base_map)\n",
        "\n",
        "# Save the map as an HTML file\n",
        "base_map.save('interactive_map.html')\n"
      ]
    }
  ]
}