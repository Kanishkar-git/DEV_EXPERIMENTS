{
  "nbformat": 4,
  "nbformat_minor": 0,
  "metadata": {
    "colab": {
      "provenance": [],
      "authorship_tag": "ABX9TyOf85QF3IuMrVhV63q16K/g",
      "include_colab_link": true
    },
    "kernelspec": {
      "name": "python3",
      "display_name": "Python 3"
    },
    "language_info": {
      "name": "python"
    }
  },
  "cells": [
    {
      "cell_type": "markdown",
      "metadata": {
        "id": "view-in-github",
        "colab_type": "text"
      },
      "source": [
        "<a href=\"https://colab.research.google.com/github/Kanishkar-git/DEV_EXPERIMENTS/blob/main/dev_4a.ipynb\" target=\"_parent\"><img src=\"https://colab.research.google.com/assets/colab-badge.svg\" alt=\"Open In Colab\"/></a>"
      ]
    },
    {
      "cell_type": "code",
      "execution_count": 1,
      "metadata": {
        "colab": {
          "base_uri": "https://localhost:8080/"
        },
        "id": "YKCMRLxmSVMr",
        "outputId": "a8c11807-b448-4a86-b981-37ab4bfe9e94"
      },
      "outputs": [
        {
          "output_type": "stream",
          "name": "stdout",
          "text": [
            "Pivot Table:\n",
            " Month    April  August  July  June  September\n",
            "City                                         \n",
            "Chennai    0.0     0.0  36.0  35.0        0.0\n",
            "Delhi     32.0    30.0  42.0  40.0        0.0\n",
            "Mumbai     0.0    34.0  35.0   0.0       36.0\n",
            "City with highest total summer temperature: Delhi\n"
          ]
        }
      ],
      "source": [
        "import pandas as pd\n",
        "from datetime import datetime\n",
        "\n",
        "data = {\n",
        "    'City': ['Chennai', 'Delhi', 'Chennai', 'Delhi', 'Mumbai', 'Mumbai', 'Delhi', 'Mumbai', 'Delhi'],\n",
        "    'Date': ['2023-06-10', '2023-06-17', '2023-07-05',\n",
        "             '2023-07-12', '2023-07-20', '2023-08-01',\n",
        "             '2023-08-10', '2023-09-10', '2023-04-18'],\n",
        "    'Temperature': [35, 40, 36, 42, 35, 34, 30, 36, 32]\n",
        "}\n",
        "\n",
        "df = pd.DataFrame(data)\n",
        "df['Date'] = pd.to_datetime(df['Date'])\n",
        "df['Month'] = df['Date'].dt.month_name()\n",
        "\n",
        "grouped = df.groupby(['City', 'Month'])['Temperature'].sum().reset_index()\n",
        "pivot = grouped.pivot(index='City', columns='Month', values='Temperature').fillna(0)\n",
        "\n",
        "print(\"Pivot Table:\\n\", pivot)\n",
        "\n",
        "summer_months = ['June', 'July', 'August']\n",
        "pivot['Summer-Total'] = pivot[summer_months].sum(axis=1)\n",
        "\n",
        "max_city = pivot['Summer-Total'].idxmax()\n",
        "print(f\"City with highest total summer temperature: {max_city}\")\n"
      ]
    }
  ]
}